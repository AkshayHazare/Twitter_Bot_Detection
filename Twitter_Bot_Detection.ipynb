{
 "cells": [
  {
   "cell_type": "markdown",
   "metadata": {},
   "source": [
    "# Twitter Bot Detection"
   ]
  },
  {
   "cell_type": "markdown",
   "metadata": {},
   "source": [
    "### Import necessary libraries"
   ]
  },
  {
   "cell_type": "code",
   "execution_count": 1,
   "metadata": {
    "collapsed": false
   },
   "outputs": [],
   "source": [
    "import pandas as pd\n",
    "import numpy as np\n",
    "from sklearn import model_selection\n",
    "from sklearn.linear_model import LogisticRegression\n",
    "from sklearn.tree import DecisionTreeClassifier\n",
    "from sklearn.naive_bayes import MultinomialNB\n",
    "from sklearn.naive_bayes import BernoulliNB\n",
    "from sklearn.svm import SVC\n",
    "from sklearn.ensemble import RandomForestClassifier, GradientBoostingClassifier\n",
    "import csv\n",
    "from sklearn.metrics import *\n",
    "import seaborn as sns\n",
    "%matplotlib inline\n",
    "import matplotlib.pyplot as plt"
   ]
  },
  {
   "cell_type": "markdown",
   "metadata": {},
   "source": [
    "### Importing the Data and Cleaning it "
   ]
  },
  {
   "cell_type": "code",
   "execution_count": 2,
   "metadata": {
    "collapsed": false,
    "scrolled": false
   },
   "outputs": [],
   "source": [
    "#import train and test data sets\n",
    "train = pd.read_csv(\"/Users/akshay/Desktop/GitHub/Twitter_Bot_Detection/Train_data.csv\")\n",
    "test = pd.read_csv(\"/Users/akshay/Desktop/GitHub/Twitter_Bot_Detection/Test_data.csv\")\n",
    "\n",
    "# Check if 'has_extended_profile' attribute is null or not\n",
    "train['has_extended_profile'] = train['has_extended_profile'].fillna(False)\n",
    "test['has_extended_profile'] = test['has_extended_profile'].fillna(False)\n",
    "\n",
    "# Check if 'location' attribute is null or not\n",
    "train['location']=pd.isnull(train.location).astype(int)\n",
    "test['location']=pd.isnull(test.location).astype(int)\n",
    "\n",
    "#Check if 'description' attribute is null or not\n",
    "train['description'] = train['description'].fillna('No Description')\n",
    "test['description'] = test['description'].fillna('No Description')    \n"
   ]
  },
  {
   "cell_type": "markdown",
   "metadata": {},
   "source": [
    "### Check if 'Name', 'Screen_Name' or 'Description' contain 'bot'"
   ]
  },
  {
   "cell_type": "code",
   "execution_count": 3,
   "metadata": {
    "collapsed": false
   },
   "outputs": [],
   "source": [
    "### Check if the Screen_Name of the User has 'bot' in it\n",
    "train_sname_bot=[]\n",
    "for row in train.screen_name:\n",
    "    if ('bot' in row):\n",
    "        train_sname_bot.append(1)\n",
    "    else:\n",
    "        train_sname_bot.append(0)\n",
    "train['name_bot']=train_sname_bot\n",
    "\n",
    "test_sname_bot=[]\n",
    "for row in test.screen_name:\n",
    "    if ('bot' in row):\n",
    "        test_sname_bot.append(1)\n",
    "    else:\n",
    "        test_sname_bot.append(0)\n",
    "test['sname_bot']=test_sname_bot\n",
    "\n",
    "### Check if the Name of the User has 'bot' in it\n",
    "train_name_bot=[]\n",
    "for row in train.name:\n",
    "    if ('bot' in row):\n",
    "        train_name_bot.append(1)\n",
    "    else:\n",
    "        train_name_bot.append(0)\n",
    "train['sname_bot']=train_name_bot      \n",
    "\n",
    "test_name_bot=[]\n",
    "for row in test.name:\n",
    "    if ('bot' in row):\n",
    "        test_name_bot.append(1)\n",
    "    else:\n",
    "        test_name_bot.append(0)\n",
    "test['name_bot']=test_name_bot\n",
    "\n",
    "### If either of Screen_name of Name has 'bot' in it then make a new parameter to train 'name_bot'\n",
    "train['name_bot']=train.apply(lambda row: (row['sname_bot'] or row['name_bot']),axis=1)\n",
    "test['name_bot']=test.apply(lambda row: (row['sname_bot'] or row['name_bot']),axis=1)\n",
    "\n",
    "\n",
    "### Check if the Description of the User has 'bot' in it\n",
    "train_des_bot=[]\n",
    "for line in train['description']:\n",
    "        if ('bot' in line):\n",
    "            train_des_bot.append(1)\n",
    "        else:\n",
    "            train_des_bot.append(0)\n",
    "train['des_bot']=train_des_bot\n",
    "\n",
    "test_des_bot=[]\n",
    "for row in test['description']:\n",
    "        if ('bot'in row):\n",
    "            test_des_bot.append(1)\n",
    "        else:\n",
    "            test_des_bot.append(0)\n",
    "test['des_bot']=test_des_bot"
   ]
  },
  {
   "cell_type": "markdown",
   "metadata": {},
   "source": [
    "### Check How much every parameter contributes:"
   ]
  },
  {
   "cell_type": "code",
   "execution_count": 4,
   "metadata": {
    "collapsed": false
   },
   "outputs": [
    {
     "name": "stdout",
     "output_type": "stream",
     "text": [
      "  verified       bot\n",
      "0    False  0.611305\n",
      "1     True  0.013566\n"
     ]
    }
   ],
   "source": [
    "print (train[['verified', 'bot']].groupby(['verified'], as_index=False).mean())"
   ]
  },
  {
   "cell_type": "code",
   "execution_count": 5,
   "metadata": {
    "collapsed": false
   },
   "outputs": [
    {
     "name": "stdout",
     "output_type": "stream",
     "text": [
      "  default_profile       bot\n",
      "0           False  0.292135\n",
      "1            True  0.701826\n"
     ]
    }
   ],
   "source": [
    "print (train[['default_profile', 'bot']].groupby(['default_profile'], as_index=False).mean())"
   ]
  },
  {
   "cell_type": "code",
   "execution_count": 6,
   "metadata": {
    "collapsed": false
   },
   "outputs": [
    {
     "name": "stdout",
     "output_type": "stream",
     "text": [
      "  default_profile_image       bot\n",
      "0                 False  0.457979\n",
      "1                  True  0.754386\n"
     ]
    }
   ],
   "source": [
    "print (train[['default_profile_image', 'bot']].groupby(['default_profile_image'], as_index=False).mean())"
   ]
  },
  {
   "cell_type": "code",
   "execution_count": 7,
   "metadata": {
    "collapsed": false
   },
   "outputs": [
    {
     "name": "stdout",
     "output_type": "stream",
     "text": [
      "  has_extended_profile      bot\n",
      "0                False  0.51087\n",
      "1                 True  0.23000\n"
     ]
    }
   ],
   "source": [
    "print (train[['has_extended_profile', 'bot']].groupby(['has_extended_profile'], as_index=False).mean())"
   ]
  },
  {
   "cell_type": "code",
   "execution_count": 8,
   "metadata": {
    "collapsed": false
   },
   "outputs": [
    {
     "name": "stdout",
     "output_type": "stream",
     "text": [
      "   des_bot       bot\n",
      "0        0  0.403383\n",
      "1        1  0.957295\n"
     ]
    }
   ],
   "source": [
    "print (train[['des_bot', 'bot']].groupby(['des_bot'], as_index=False).mean())"
   ]
  },
  {
   "cell_type": "code",
   "execution_count": 9,
   "metadata": {
    "collapsed": false
   },
   "outputs": [
    {
     "name": "stdout",
     "output_type": "stream",
     "text": [
      "   name_bot       bot\n",
      "0         0  0.444865\n",
      "1         1  0.974790\n"
     ]
    }
   ],
   "source": [
    "print (train[['name_bot', 'bot']].groupby(['name_bot'], as_index=False).mean())"
   ]
  },
  {
   "cell_type": "code",
   "execution_count": 10,
   "metadata": {
    "collapsed": false
   },
   "outputs": [
    {
     "name": "stdout",
     "output_type": "stream",
     "text": [
      "     friends_count       bot\n",
      "0                0  0.959641\n",
      "1                1  0.960265\n",
      "2                2  0.907407\n",
      "3                3  0.852941\n",
      "4                4  0.920000\n",
      "5                5  0.833333\n",
      "6                6  0.687500\n",
      "7                7  0.714286\n",
      "8                8  0.500000\n",
      "9                9  0.500000\n",
      "10              10  0.375000\n",
      "11              11  0.666667\n",
      "12              12  0.700000\n",
      "13              13  0.777778\n",
      "14              14  0.727273\n",
      "15              15  0.666667\n",
      "16              16  0.400000\n",
      "17              17  0.666667\n",
      "18              18  0.750000\n",
      "19              19  0.166667\n",
      "20              20  0.800000\n",
      "21              21  0.625000\n",
      "22              22  0.666667\n",
      "23              23  0.250000\n",
      "24              24  0.750000\n",
      "25              25  0.600000\n",
      "26              26  0.800000\n",
      "27              27  0.750000\n",
      "28              28  0.777778\n",
      "29              29  0.875000\n",
      "..             ...       ...\n",
      "944          29303  0.000000\n",
      "945          31049  0.000000\n",
      "946          35568  0.000000\n",
      "947          35744  1.000000\n",
      "948          37234  0.000000\n",
      "949          41019  0.000000\n",
      "950          42166  1.000000\n",
      "951          45023  0.000000\n",
      "952          48860  1.000000\n",
      "953          50549  0.000000\n",
      "954          57213  0.000000\n",
      "955          68994  0.000000\n",
      "956          69092  0.000000\n",
      "957          76070  0.000000\n",
      "958          82994  1.000000\n",
      "959          85639  1.000000\n",
      "960          92031  0.000000\n",
      "961          95060  0.500000\n",
      "962         102396  1.000000\n",
      "963         108366  1.000000\n",
      "964         223642  0.000000\n",
      "965         269684  0.000000\n",
      "966         355287  1.000000\n",
      "967         371987  0.000000\n",
      "968         389732  0.000000\n",
      "969         392225  0.000000\n",
      "970         428911  0.000000\n",
      "971         630949  0.000000\n",
      "972         943150  0.000000\n",
      "973         978964  0.000000\n",
      "\n",
      "[974 rows x 2 columns]\n"
     ]
    }
   ],
   "source": [
    "print (train[['friends_count', 'bot']].groupby(['friends_count'], as_index=False).mean())"
   ]
  },
  {
   "cell_type": "code",
   "execution_count": 11,
   "metadata": {
    "collapsed": false
   },
   "outputs": [
    {
     "name": "stdout",
     "output_type": "stream",
     "text": [
      "      followers_count       bot\n",
      "0                   0  0.952381\n",
      "1                   1  0.906977\n",
      "2                   2  0.790698\n",
      "3                   3  0.913043\n",
      "4                   4  0.695652\n",
      "5                   5  0.666667\n",
      "6                   6  0.777778\n",
      "7                   7  0.823529\n",
      "8                   8  0.937500\n",
      "9                   9  0.571429\n",
      "10                 10  0.647059\n",
      "11                 11  0.750000\n",
      "12                 12  0.538462\n",
      "13                 13  0.454545\n",
      "14                 14  0.666667\n",
      "15                 15  0.466667\n",
      "16                 16  0.600000\n",
      "17                 17  1.000000\n",
      "18                 18  0.571429\n",
      "19                 19  1.000000\n",
      "20                 20  0.818182\n",
      "21                 21  0.500000\n",
      "22                 22  0.444444\n",
      "23                 23  0.750000\n",
      "24                 24  0.142857\n",
      "25                 25  0.400000\n",
      "26                 26  0.800000\n",
      "27                 27  0.500000\n",
      "28                 28  0.000000\n",
      "29                 29  0.833333\n",
      "...               ...       ...\n",
      "1319         20146302  0.000000\n",
      "1320         22270820  0.000000\n",
      "1321         22527443  0.000000\n",
      "1322         22703994  0.000000\n",
      "1323         23290650  0.000000\n",
      "1324         23763283  0.000000\n",
      "1325         24022023  0.000000\n",
      "1326         25255491  0.000000\n",
      "1327         25437224  0.000000\n",
      "1328         26243562  0.000000\n",
      "1329         26318809  0.000000\n",
      "1330         26408349  0.000000\n",
      "1331         27859346  0.000000\n",
      "1332         27878790  0.000000\n",
      "1333         28933243  0.000000\n",
      "1334         29270575  0.000000\n",
      "1335         30220786  0.000000\n",
      "1336         31942389  0.000000\n",
      "1337         32129515  0.000000\n",
      "1338         34363304  0.000000\n",
      "1339         35916070  0.000000\n",
      "1340         40307926  0.000000\n",
      "1341         46472564  0.000000\n",
      "1342         50408557  0.000000\n",
      "1343         50549694  0.000000\n",
      "1344         51314111  0.000000\n",
      "1345         58300207  0.000000\n",
      "1346         83720371  0.000000\n",
      "1347         85681083  0.000000\n",
      "1348         96321564  0.000000\n",
      "\n",
      "[1349 rows x 2 columns]\n"
     ]
    }
   ],
   "source": [
    "print (train[['followers_count', 'bot']].groupby(['followers_count'], as_index=False).mean())"
   ]
  },
  {
   "cell_type": "code",
   "execution_count": 12,
   "metadata": {
    "collapsed": false
   },
   "outputs": [
    {
     "name": "stdout",
     "output_type": "stream",
     "text": [
      "     favourites_count       bot\n",
      "0                   0  0.791118\n",
      "1                   1  0.750000\n",
      "2                   2  0.700000\n",
      "3                   3  0.631579\n",
      "4                   4  0.633333\n",
      "5                   5  0.600000\n",
      "6                   6  0.526316\n",
      "7                   7  0.562500\n",
      "8                   8  0.384615\n",
      "9                   9  0.153846\n",
      "10                 10  0.142857\n",
      "11                 11  0.571429\n",
      "12                 12  0.555556\n",
      "13                 13  0.400000\n",
      "14                 14  0.583333\n",
      "15                 15  0.411765\n",
      "16                 16  0.400000\n",
      "17                 17  0.285714\n",
      "18                 18  0.214286\n",
      "19                 19  0.571429\n",
      "20                 20  0.307692\n",
      "21                 21  0.846154\n",
      "22                 22  0.444444\n",
      "23                 23  0.769231\n",
      "24                 24  0.500000\n",
      "25                 25  0.500000\n",
      "26                 26  0.333333\n",
      "27                 27  0.400000\n",
      "28                 28  0.375000\n",
      "29                 29  0.666667\n",
      "..                ...       ...\n",
      "761             24206  0.000000\n",
      "762             24299  0.000000\n",
      "763             25011  0.000000\n",
      "764             25216  0.000000\n",
      "765             25654  1.000000\n",
      "766             26430  0.000000\n",
      "767             26993  0.000000\n",
      "768             27745  0.000000\n",
      "769             27939  0.000000\n",
      "770             28218  0.000000\n",
      "771             29095  0.000000\n",
      "772             29498  0.000000\n",
      "773             31627  0.000000\n",
      "774             31928  0.000000\n",
      "775             32759  0.000000\n",
      "776             32932  0.000000\n",
      "777             34817  0.000000\n",
      "778             35444  0.000000\n",
      "779             37437  0.000000\n",
      "780             39359  0.000000\n",
      "781             41387  0.000000\n",
      "782             54595  0.000000\n",
      "783             57638  1.000000\n",
      "784             64325  0.000000\n",
      "785             74533  1.000000\n",
      "786             85334  0.000000\n",
      "787            112382  1.000000\n",
      "788            161887  0.000000\n",
      "789            270098  0.000000\n",
      "790            714021  0.000000\n",
      "\n",
      "[791 rows x 2 columns]\n"
     ]
    }
   ],
   "source": [
    "print (train[['favourites_count', 'bot']].groupby(['favourites_count'], as_index=False).mean())"
   ]
  },
  {
   "cell_type": "code",
   "execution_count": 13,
   "metadata": {
    "collapsed": false
   },
   "outputs": [
    {
     "name": "stdout",
     "output_type": "stream",
     "text": [
      "      statuses_count       bot\n",
      "0                  0  0.854545\n",
      "1                  1  0.724138\n",
      "2                  2  0.478261\n",
      "3                  3  0.588235\n",
      "4                  4  0.785714\n",
      "5                  5  0.714286\n",
      "6                  6  0.285714\n",
      "7                  7  0.300000\n",
      "8                  8  0.571429\n",
      "9                  9  0.142857\n",
      "10                10  0.250000\n",
      "11                11  0.750000\n",
      "12                12  0.166667\n",
      "13                13  0.250000\n",
      "14                14  0.600000\n",
      "15                15  0.428571\n",
      "16                16  0.250000\n",
      "17                17  0.428571\n",
      "18                18  0.500000\n",
      "19                19  0.600000\n",
      "20                20  0.500000\n",
      "21                21  0.500000\n",
      "22                22  1.000000\n",
      "23                23  1.000000\n",
      "24                24  0.666667\n",
      "25                25  0.333333\n",
      "26                26  0.714286\n",
      "27                27  0.375000\n",
      "28                28  0.000000\n",
      "29                29  0.333333\n",
      "...              ...       ...\n",
      "1636          188270  1.000000\n",
      "1637          191383  1.000000\n",
      "1638          206723  1.000000\n",
      "1639          207479  1.000000\n",
      "1640          223659  1.000000\n",
      "1641          225216  0.000000\n",
      "1642          227103  0.000000\n",
      "1643          247223  1.000000\n",
      "1644          260879  1.000000\n",
      "1645          262067  1.000000\n",
      "1646          269878  0.000000\n",
      "1647          288368  1.000000\n",
      "1648          297198  1.000000\n",
      "1649          318279  1.000000\n",
      "1650          335950  1.000000\n",
      "1651          340788  0.000000\n",
      "1652          379275  1.000000\n",
      "1653          457649  1.000000\n",
      "1654          480858  1.000000\n",
      "1655          508835  1.000000\n",
      "1656          684818  1.000000\n",
      "1657          741849  0.000000\n",
      "1658          772559  1.000000\n",
      "1659          849518  1.000000\n",
      "1660          882734  1.000000\n",
      "1661          938563  1.000000\n",
      "1662         1065316  1.000000\n",
      "1663         1217604  1.000000\n",
      "1664         2497530  1.000000\n",
      "1665         6863363  1.000000\n",
      "\n",
      "[1666 rows x 2 columns]\n"
     ]
    }
   ],
   "source": [
    "print (train[['statuses_count', 'bot']].groupby(['statuses_count'], as_index=False).mean())"
   ]
  },
  {
   "cell_type": "code",
   "execution_count": 14,
   "metadata": {
    "collapsed": false
   },
   "outputs": [
    {
     "name": "stdout",
     "output_type": "stream",
     "text": [
      "   location       bot\n",
      "0         0  0.365493\n",
      "1         1  0.661330\n"
     ]
    }
   ],
   "source": [
    "print (train[['location', 'bot']].groupby(['location'], as_index=False).mean())"
   ]
  },
  {
   "cell_type": "markdown",
   "metadata": {},
   "source": [
    "### Choose Parameters to Train"
   ]
  },
  {
   "cell_type": "code",
   "execution_count": 15,
   "metadata": {
    "collapsed": false
   },
   "outputs": [],
   "source": [
    "## As all the above parameters contribute significantly in the decision, we train our model with them.\n",
    "\n",
    "X_train=train[['followers_count','friends_count','favourites_count','statuses_count','verified','default_profile','default_profile_image','has_extended_profile','location','des_bot','name_bot']].astype(int)\n",
    "Y_train=train.bot\n",
    "\n",
    "X_test=test[['followers_count','friends_count','favourites_count','statuses_count','verified','default_profile','default_profile_image','has_extended_profile','location','des_bot','name_bot']].astype(int)\n",
    "Y_test=test.bot"
   ]
  },
  {
   "cell_type": "markdown",
   "metadata": {},
   "source": [
    "## Comparison of Classifiers based on Accuracy, Precision, Recall, F1 and AUC "
   ]
  },
  {
   "cell_type": "code",
   "execution_count": 16,
   "metadata": {
    "collapsed": false
   },
   "outputs": [],
   "source": [
    "classifiers = [\n",
    "    BernoulliNB(),\n",
    "    MultinomialNB(),\n",
    "    SVC(probability=True),\n",
    "    DecisionTreeClassifier(),\n",
    "    RandomForestClassifier(),\n",
    "    GradientBoostingClassifier(),\n",
    "    LogisticRegression()]\n",
    "\n",
    "log_cols1 = [\"Classifier\", \"Accuracy\"]\n",
    "log1      = pd.DataFrame(columns=log_cols1)\n",
    "log_cols2 = [\"Classifier\", \"Precision\"]\n",
    "log2      = pd.DataFrame(columns=log_cols2)\n",
    "log_cols3 = [\"Classifier\", \"Recall\"]\n",
    "log3      = pd.DataFrame(columns=log_cols3)\n",
    "log_cols4 = [\"Classifier\", \"F1\"]\n",
    "log4      = pd.DataFrame(columns=log_cols4)\n",
    "log_cols5 = [\"Classifier\", \"AUC\"]\n",
    "log5      = pd.DataFrame(columns=log_cols5)\n",
    "\n",
    "acc_dict = {}\n",
    "prec_dict = {}\n",
    "recall_dict = {}\n",
    "f1_dict = {}\n",
    "auc_dict = {}\n",
    "\n",
    "for clf in classifiers:\n",
    "        name = clf.__class__.__name__\n",
    "        clf.fit(X_train, Y_train)\n",
    "        train_predictions = clf.predict(X_test)\n",
    "        acc = accuracy_score(Y_test, train_predictions)\n",
    "        prec = precision_score(Y_test, train_predictions, average='weighted')\n",
    "        rec = recall_score(Y_test, train_predictions, average='weighted')\n",
    "        f1 = f1_score(Y_test, train_predictions, average='weighted')\n",
    "        auc = roc_auc_score(Y_test, train_predictions, average='weighted')\n",
    "        \n",
    "        if name in acc_dict:\n",
    "             acc_dict[name] += acc\n",
    "        else:\n",
    "             acc_dict[name] = acc\n",
    "            \n",
    "        if name in prec_dict:\n",
    "            prec_dict[name] += prec\n",
    "        else:\n",
    "            prec_dict[name] = prec\n",
    "            \n",
    "        if name in recall_dict:\n",
    "             recall_dict[name] += rec\n",
    "        else:\n",
    "             recall_dict[name] = rec\n",
    "            \n",
    "        if name in f1_dict:\n",
    "            f1_dict[name] += f1\n",
    "        else:\n",
    "            f1_dict[name] = f1\n",
    "            \n",
    "        if name in auc_dict:\n",
    "            auc_dict[name] += auc\n",
    "        else:\n",
    "            auc_dict[name] = f1\n",
    "\n",
    "for clf in acc_dict:\n",
    "    log_entry1 = pd.DataFrame([[clf, acc_dict[clf]]], columns=log_cols1)\n",
    "    log1 = log1.append(log_entry1)\n",
    "    \n",
    "for clf in prec_dict:\n",
    "    log_entry2 = pd.DataFrame([[clf, prec_dict[clf]]], columns=log_cols2)\n",
    "    log2 = log2.append(log_entry2)\n",
    "    \n",
    "for clf in recall_dict:\n",
    "    log_entry3 = pd.DataFrame([[clf, recall_dict[clf]]], columns=log_cols3)\n",
    "    log3 = log3.append(log_entry3)\n",
    "\n",
    "for clf in f1_dict:\n",
    "    log_entry4 = pd.DataFrame([[clf, f1_dict[clf]]], columns=log_cols4)\n",
    "    log4 = log4.append(log_entry4)\n",
    "\n",
    "for clf in auc_dict:\n",
    "    log_entry5 = pd.DataFrame([[clf, auc_dict[clf]]], columns=log_cols5)\n",
    "    log5 = log5.append(log_entry5)"
   ]
  },
  {
   "cell_type": "code",
   "execution_count": 17,
   "metadata": {
    "collapsed": false
   },
   "outputs": [
    {
     "data": {
      "text/plain": [
       "<matplotlib.axes._subplots.AxesSubplot at 0x11b9c1b10>"
      ]
     },
     "execution_count": 17,
     "metadata": {},
     "output_type": "execute_result"
    },
    {
     "data": {
      "image/png": "[encoded data removed]",
      "text/plain": [
       "<matplotlib.figure.Figure at 0x11b9e5d90>"
      ]
     },
     "metadata": {},
     "output_type": "display_data"
    }
   ],
   "source": [
    "plt.xlabel('Accuracy')\n",
    "plt.title('Classifier Accuracy')\n",
    "\n",
    "sns.set_color_codes(\"muted\")\n",
    "sns.barplot(x='Accuracy', y='Classifier', data=log1, color=\"g\")"
   ]
  },
  {
   "cell_type": "markdown",
   "metadata": {},
   "source": [
    "#### The Accuracy values for all the classifiers :"
   ]
  },
  {
   "cell_type": "code",
   "execution_count": 18,
   "metadata": {
    "collapsed": false
   },
   "outputs": [
    {
     "data": {
      "text/html": [
       "<div>\n",
       "<table border=\"1\" class=\"dataframe\">\n",
       "  <thead>\n",
       "    <tr style=\"text-align: right;\">\n",
       "      <th></th>\n",
       "      <th>Classifier</th>\n",
       "      <th>Accuracy</th>\n",
       "    </tr>\n",
       "  </thead>\n",
       "  <tbody>\n",
       "    <tr>\n",
       "      <th>0</th>\n",
       "      <td>BernoulliNB</td>\n",
       "      <td>0.831683</td>\n",
       "    </tr>\n",
       "    <tr>\n",
       "      <th>0</th>\n",
       "      <td>RandomForestClassifier</td>\n",
       "      <td>0.990099</td>\n",
       "    </tr>\n",
       "    <tr>\n",
       "      <th>0</th>\n",
       "      <td>SVC</td>\n",
       "      <td>0.811881</td>\n",
       "    </tr>\n",
       "    <tr>\n",
       "      <th>0</th>\n",
       "      <td>DecisionTreeClassifier</td>\n",
       "      <td>0.970297</td>\n",
       "    </tr>\n",
       "    <tr>\n",
       "      <th>0</th>\n",
       "      <td>LogisticRegression</td>\n",
       "      <td>0.920792</td>\n",
       "    </tr>\n",
       "    <tr>\n",
       "      <th>0</th>\n",
       "      <td>MultinomialNB</td>\n",
       "      <td>0.851485</td>\n",
       "    </tr>\n",
       "    <tr>\n",
       "      <th>0</th>\n",
       "      <td>GradientBoostingClassifier</td>\n",
       "      <td>0.970297</td>\n",
       "    </tr>\n",
       "  </tbody>\n",
       "</table>\n",
       "</div>"
      ],
      "text/plain": [
       "                   Classifier  Accuracy\n",
       "0                 BernoulliNB  0.831683\n",
       "0      RandomForestClassifier  0.990099\n",
       "0                         SVC  0.811881\n",
       "0      DecisionTreeClassifier  0.970297\n",
       "0          LogisticRegression  0.920792\n",
       "0               MultinomialNB  0.851485\n",
       "0  GradientBoostingClassifier  0.970297"
      ]
     },
     "execution_count": 18,
     "metadata": {},
     "output_type": "execute_result"
    }
   ],
   "source": [
    "log1"
   ]
  },
  {
   "cell_type": "markdown",
   "metadata": {},
   "source": [
    "#### By Comparing the above classifiers we choose BernouliNB, Decision Tree Classifier, Gradient Boost Classifier and MultinomialNB as our final classifers"
   ]
  },
  {
   "cell_type": "markdown",
   "metadata": {},
   "source": [
    "#### Plot of Precision vs Classifiers"
   ]
  },
  {
   "cell_type": "code",
   "execution_count": 19,
   "metadata": {
    "collapsed": false
   },
   "outputs": [
    {
     "data": {
      "text/plain": [
       "<matplotlib.axes._subplots.AxesSubplot at 0x11ba06b10>"
      ]
     },
     "execution_count": 19,
     "metadata": {},
     "output_type": "execute_result"
    },
    {
     "data": {
      "image/png": "[encoded data removed]",
      "text/plain": [
       "<matplotlib.figure.Figure at 0x11c7f5e90>"
      ]
     },
     "metadata": {},
     "output_type": "display_data"
    }
   ],
   "source": [
    "plt.xlabel('Precision')\n",
    "plt.title('Classifier Precision')\n",
    "\n",
    "sns.set_color_codes(\"muted\")\n",
    "sns.barplot(x='Precision', y='Classifier', data=log2, color=\"g\")"
   ]
  },
  {
   "cell_type": "markdown",
   "metadata": {},
   "source": [
    "#### Plot of Recall vs Classifiers"
   ]
  },
  {
   "cell_type": "code",
   "execution_count": 20,
   "metadata": {
    "collapsed": false
   },
   "outputs": [
    {
     "data": {
      "text/plain": [
       "<matplotlib.axes._subplots.AxesSubplot at 0x11b9e5dd0>"
      ]
     },
     "execution_count": 20,
     "metadata": {},
     "output_type": "execute_result"
    },
    {
     "data": {
      "image/png": "[encoded data removed]",
      "text/plain": [
       "<matplotlib.figure.Figure at 0x11c8b4950>"
      ]
     },
     "metadata": {},
     "output_type": "display_data"
    }
   ],
   "source": [
    "plt.xlabel('Recall')\n",
    "plt.title('Classifier Recall')\n",
    "\n",
    "sns.set_color_codes(\"muted\")\n",
    "sns.barplot(x='Recall', y='Classifier', data=log3, color=\"g\")"
   ]
  },
  {
   "cell_type": "markdown",
   "metadata": {},
   "source": [
    "#### Plot of F1 vs Classifiers"
   ]
  },
  {
   "cell_type": "code",
   "execution_count": 21,
   "metadata": {
    "collapsed": false
   },
   "outputs": [
    {
     "data": {
      "text/plain": [
       "<matplotlib.axes._subplots.AxesSubplot at 0x11c9a4b50>"
      ]
     },
     "execution_count": 21,
     "metadata": {},
     "output_type": "execute_result"
    },
    {
     "data": {
      "image/png": "[encoded data removed]",
      "text/plain": [
       "<matplotlib.figure.Figure at 0x11ca65ed0>"
      ]
     },
     "metadata": {},
     "output_type": "display_data"
    }
   ],
   "source": [
    "plt.xlabel('F1')\n",
    "plt.title('Classifier F1')\n",
    "\n",
    "sns.set_color_codes(\"muted\")\n",
    "sns.barplot(x='F1', y='Classifier', data=log4, color=\"g\")"
   ]
  },
  {
   "cell_type": "markdown",
   "metadata": {},
   "source": [
    "#### Plot of AUC vs Classifiers"
   ]
  },
  {
   "cell_type": "code",
   "execution_count": 22,
   "metadata": {
    "collapsed": false
   },
   "outputs": [
    {
     "data": {
      "text/plain": [
       "<matplotlib.axes._subplots.AxesSubplot at 0x12085f590>"
      ]
     },
     "execution_count": 22,
     "metadata": {},
     "output_type": "execute_result"
    },
    {
     "data": {
      "image/png": "[encoded data removed]",
      "text/plain": [
       "<matplotlib.figure.Figure at 0x120974790>"
      ]
     },
     "metadata": {},
     "output_type": "display_data"
    }
   ],
   "source": [
    "plt.xlabel('AUC')\n",
    "plt.title('Classifier AUC')\n",
    "\n",
    "sns.set_color_codes(\"muted\")\n",
    "sns.barplot(x='AUC', y='Classifier', data=log5, color=\"g\")"
   ]
  },
  {
   "cell_type": "markdown",
   "metadata": {},
   "source": [
    "### The Recall, Precision, F1 and AUC scores support our choices of Classifiers"
   ]
  },
  {
   "cell_type": "markdown",
   "metadata": {},
   "source": [
    "### Using the Classifiers to Predict our result:"
   ]
  },
  {
   "cell_type": "code",
   "execution_count": 23,
   "metadata": {
    "collapsed": false
   },
   "outputs": [
    {
     "data": {
      "text/html": [
       "<div>\n",
       "<table border=\"1\" class=\"dataframe\">\n",
       "  <thead>\n",
       "    <tr style=\"text-align: right;\">\n",
       "      <th></th>\n",
       "      <th>True Value</th>\n",
       "      <th>OP with RandomForestClassifier</th>\n",
       "      <th>OP with LogisticRegression</th>\n",
       "      <th>OP with DecisionTreeClassifier</th>\n",
       "      <th>OP with GradientBoostingClassifier</th>\n",
       "    </tr>\n",
       "  </thead>\n",
       "  <tbody>\n",
       "    <tr>\n",
       "      <th>0</th>\n",
       "      <td>0</td>\n",
       "      <td>0</td>\n",
       "      <td>0</td>\n",
       "      <td>0</td>\n",
       "      <td>0</td>\n",
       "    </tr>\n",
       "    <tr>\n",
       "      <th>1</th>\n",
       "      <td>0</td>\n",
       "      <td>0</td>\n",
       "      <td>0</td>\n",
       "      <td>0</td>\n",
       "      <td>0</td>\n",
       "    </tr>\n",
       "    <tr>\n",
       "      <th>2</th>\n",
       "      <td>0</td>\n",
       "      <td>0</td>\n",
       "      <td>0</td>\n",
       "      <td>0</td>\n",
       "      <td>0</td>\n",
       "    </tr>\n",
       "    <tr>\n",
       "      <th>3</th>\n",
       "      <td>0</td>\n",
       "      <td>0</td>\n",
       "      <td>0</td>\n",
       "      <td>0</td>\n",
       "      <td>0</td>\n",
       "    </tr>\n",
       "    <tr>\n",
       "      <th>4</th>\n",
       "      <td>0</td>\n",
       "      <td>0</td>\n",
       "      <td>0</td>\n",
       "      <td>0</td>\n",
       "      <td>0</td>\n",
       "    </tr>\n",
       "    <tr>\n",
       "      <th>5</th>\n",
       "      <td>0</td>\n",
       "      <td>0</td>\n",
       "      <td>0</td>\n",
       "      <td>0</td>\n",
       "      <td>0</td>\n",
       "    </tr>\n",
       "    <tr>\n",
       "      <th>6</th>\n",
       "      <td>0</td>\n",
       "      <td>0</td>\n",
       "      <td>0</td>\n",
       "      <td>0</td>\n",
       "      <td>0</td>\n",
       "    </tr>\n",
       "    <tr>\n",
       "      <th>7</th>\n",
       "      <td>0</td>\n",
       "      <td>0</td>\n",
       "      <td>0</td>\n",
       "      <td>0</td>\n",
       "      <td>0</td>\n",
       "    </tr>\n",
       "    <tr>\n",
       "      <th>8</th>\n",
       "      <td>0</td>\n",
       "      <td>0</td>\n",
       "      <td>0</td>\n",
       "      <td>0</td>\n",
       "      <td>0</td>\n",
       "    </tr>\n",
       "    <tr>\n",
       "      <th>9</th>\n",
       "      <td>0</td>\n",
       "      <td>0</td>\n",
       "      <td>0</td>\n",
       "      <td>0</td>\n",
       "      <td>0</td>\n",
       "    </tr>\n",
       "    <tr>\n",
       "      <th>10</th>\n",
       "      <td>0</td>\n",
       "      <td>0</td>\n",
       "      <td>0</td>\n",
       "      <td>0</td>\n",
       "      <td>0</td>\n",
       "    </tr>\n",
       "    <tr>\n",
       "      <th>11</th>\n",
       "      <td>0</td>\n",
       "      <td>0</td>\n",
       "      <td>0</td>\n",
       "      <td>0</td>\n",
       "      <td>0</td>\n",
       "    </tr>\n",
       "    <tr>\n",
       "      <th>12</th>\n",
       "      <td>0</td>\n",
       "      <td>0</td>\n",
       "      <td>0</td>\n",
       "      <td>0</td>\n",
       "      <td>0</td>\n",
       "    </tr>\n",
       "    <tr>\n",
       "      <th>13</th>\n",
       "      <td>0</td>\n",
       "      <td>0</td>\n",
       "      <td>0</td>\n",
       "      <td>0</td>\n",
       "      <td>0</td>\n",
       "    </tr>\n",
       "    <tr>\n",
       "      <th>14</th>\n",
       "      <td>0</td>\n",
       "      <td>0</td>\n",
       "      <td>1</td>\n",
       "      <td>0</td>\n",
       "      <td>1</td>\n",
       "    </tr>\n",
       "    <tr>\n",
       "      <th>15</th>\n",
       "      <td>0</td>\n",
       "      <td>0</td>\n",
       "      <td>0</td>\n",
       "      <td>0</td>\n",
       "      <td>0</td>\n",
       "    </tr>\n",
       "    <tr>\n",
       "      <th>16</th>\n",
       "      <td>0</td>\n",
       "      <td>0</td>\n",
       "      <td>0</td>\n",
       "      <td>0</td>\n",
       "      <td>0</td>\n",
       "    </tr>\n",
       "    <tr>\n",
       "      <th>17</th>\n",
       "      <td>0</td>\n",
       "      <td>0</td>\n",
       "      <td>0</td>\n",
       "      <td>0</td>\n",
       "      <td>0</td>\n",
       "    </tr>\n",
       "    <tr>\n",
       "      <th>18</th>\n",
       "      <td>0</td>\n",
       "      <td>0</td>\n",
       "      <td>0</td>\n",
       "      <td>0</td>\n",
       "      <td>0</td>\n",
       "    </tr>\n",
       "    <tr>\n",
       "      <th>19</th>\n",
       "      <td>0</td>\n",
       "      <td>0</td>\n",
       "      <td>0</td>\n",
       "      <td>0</td>\n",
       "      <td>0</td>\n",
       "    </tr>\n",
       "    <tr>\n",
       "      <th>20</th>\n",
       "      <td>0</td>\n",
       "      <td>0</td>\n",
       "      <td>0</td>\n",
       "      <td>0</td>\n",
       "      <td>0</td>\n",
       "    </tr>\n",
       "    <tr>\n",
       "      <th>21</th>\n",
       "      <td>0</td>\n",
       "      <td>0</td>\n",
       "      <td>0</td>\n",
       "      <td>0</td>\n",
       "      <td>0</td>\n",
       "    </tr>\n",
       "    <tr>\n",
       "      <th>22</th>\n",
       "      <td>0</td>\n",
       "      <td>0</td>\n",
       "      <td>0</td>\n",
       "      <td>0</td>\n",
       "      <td>0</td>\n",
       "    </tr>\n",
       "    <tr>\n",
       "      <th>23</th>\n",
       "      <td>0</td>\n",
       "      <td>0</td>\n",
       "      <td>0</td>\n",
       "      <td>0</td>\n",
       "      <td>0</td>\n",
       "    </tr>\n",
       "    <tr>\n",
       "      <th>24</th>\n",
       "      <td>0</td>\n",
       "      <td>0</td>\n",
       "      <td>0</td>\n",
       "      <td>0</td>\n",
       "      <td>0</td>\n",
       "    </tr>\n",
       "    <tr>\n",
       "      <th>25</th>\n",
       "      <td>0</td>\n",
       "      <td>0</td>\n",
       "      <td>0</td>\n",
       "      <td>0</td>\n",
       "      <td>0</td>\n",
       "    </tr>\n",
       "    <tr>\n",
       "      <th>26</th>\n",
       "      <td>0</td>\n",
       "      <td>0</td>\n",
       "      <td>1</td>\n",
       "      <td>0</td>\n",
       "      <td>0</td>\n",
       "    </tr>\n",
       "    <tr>\n",
       "      <th>27</th>\n",
       "      <td>0</td>\n",
       "      <td>0</td>\n",
       "      <td>0</td>\n",
       "      <td>0</td>\n",
       "      <td>0</td>\n",
       "    </tr>\n",
       "    <tr>\n",
       "      <th>28</th>\n",
       "      <td>0</td>\n",
       "      <td>0</td>\n",
       "      <td>0</td>\n",
       "      <td>0</td>\n",
       "      <td>0</td>\n",
       "    </tr>\n",
       "    <tr>\n",
       "      <th>29</th>\n",
       "      <td>0</td>\n",
       "      <td>0</td>\n",
       "      <td>0</td>\n",
       "      <td>0</td>\n",
       "      <td>0</td>\n",
       "    </tr>\n",
       "    <tr>\n",
       "      <th>...</th>\n",
       "      <td>...</td>\n",
       "      <td>...</td>\n",
       "      <td>...</td>\n",
       "      <td>...</td>\n",
       "      <td>...</td>\n",
       "    </tr>\n",
       "    <tr>\n",
       "      <th>71</th>\n",
       "      <td>1</td>\n",
       "      <td>1</td>\n",
       "      <td>1</td>\n",
       "      <td>1</td>\n",
       "      <td>1</td>\n",
       "    </tr>\n",
       "    <tr>\n",
       "      <th>72</th>\n",
       "      <td>1</td>\n",
       "      <td>1</td>\n",
       "      <td>1</td>\n",
       "      <td>1</td>\n",
       "      <td>1</td>\n",
       "    </tr>\n",
       "    <tr>\n",
       "      <th>73</th>\n",
       "      <td>1</td>\n",
       "      <td>1</td>\n",
       "      <td>1</td>\n",
       "      <td>1</td>\n",
       "      <td>1</td>\n",
       "    </tr>\n",
       "    <tr>\n",
       "      <th>74</th>\n",
       "      <td>1</td>\n",
       "      <td>1</td>\n",
       "      <td>1</td>\n",
       "      <td>1</td>\n",
       "      <td>1</td>\n",
       "    </tr>\n",
       "    <tr>\n",
       "      <th>75</th>\n",
       "      <td>1</td>\n",
       "      <td>1</td>\n",
       "      <td>1</td>\n",
       "      <td>0</td>\n",
       "      <td>1</td>\n",
       "    </tr>\n",
       "    <tr>\n",
       "      <th>76</th>\n",
       "      <td>1</td>\n",
       "      <td>1</td>\n",
       "      <td>1</td>\n",
       "      <td>1</td>\n",
       "      <td>1</td>\n",
       "    </tr>\n",
       "    <tr>\n",
       "      <th>77</th>\n",
       "      <td>1</td>\n",
       "      <td>1</td>\n",
       "      <td>1</td>\n",
       "      <td>1</td>\n",
       "      <td>1</td>\n",
       "    </tr>\n",
       "    <tr>\n",
       "      <th>78</th>\n",
       "      <td>1</td>\n",
       "      <td>1</td>\n",
       "      <td>1</td>\n",
       "      <td>1</td>\n",
       "      <td>1</td>\n",
       "    </tr>\n",
       "    <tr>\n",
       "      <th>79</th>\n",
       "      <td>1</td>\n",
       "      <td>1</td>\n",
       "      <td>1</td>\n",
       "      <td>1</td>\n",
       "      <td>1</td>\n",
       "    </tr>\n",
       "    <tr>\n",
       "      <th>80</th>\n",
       "      <td>1</td>\n",
       "      <td>1</td>\n",
       "      <td>1</td>\n",
       "      <td>1</td>\n",
       "      <td>1</td>\n",
       "    </tr>\n",
       "    <tr>\n",
       "      <th>81</th>\n",
       "      <td>1</td>\n",
       "      <td>1</td>\n",
       "      <td>1</td>\n",
       "      <td>1</td>\n",
       "      <td>1</td>\n",
       "    </tr>\n",
       "    <tr>\n",
       "      <th>82</th>\n",
       "      <td>1</td>\n",
       "      <td>1</td>\n",
       "      <td>1</td>\n",
       "      <td>1</td>\n",
       "      <td>1</td>\n",
       "    </tr>\n",
       "    <tr>\n",
       "      <th>83</th>\n",
       "      <td>1</td>\n",
       "      <td>1</td>\n",
       "      <td>0</td>\n",
       "      <td>1</td>\n",
       "      <td>0</td>\n",
       "    </tr>\n",
       "    <tr>\n",
       "      <th>84</th>\n",
       "      <td>1</td>\n",
       "      <td>1</td>\n",
       "      <td>1</td>\n",
       "      <td>1</td>\n",
       "      <td>1</td>\n",
       "    </tr>\n",
       "    <tr>\n",
       "      <th>85</th>\n",
       "      <td>1</td>\n",
       "      <td>1</td>\n",
       "      <td>1</td>\n",
       "      <td>1</td>\n",
       "      <td>1</td>\n",
       "    </tr>\n",
       "    <tr>\n",
       "      <th>86</th>\n",
       "      <td>1</td>\n",
       "      <td>1</td>\n",
       "      <td>1</td>\n",
       "      <td>1</td>\n",
       "      <td>1</td>\n",
       "    </tr>\n",
       "    <tr>\n",
       "      <th>87</th>\n",
       "      <td>1</td>\n",
       "      <td>1</td>\n",
       "      <td>1</td>\n",
       "      <td>1</td>\n",
       "      <td>1</td>\n",
       "    </tr>\n",
       "    <tr>\n",
       "      <th>88</th>\n",
       "      <td>1</td>\n",
       "      <td>1</td>\n",
       "      <td>1</td>\n",
       "      <td>1</td>\n",
       "      <td>1</td>\n",
       "    </tr>\n",
       "    <tr>\n",
       "      <th>89</th>\n",
       "      <td>1</td>\n",
       "      <td>1</td>\n",
       "      <td>0</td>\n",
       "      <td>1</td>\n",
       "      <td>1</td>\n",
       "    </tr>\n",
       "    <tr>\n",
       "      <th>90</th>\n",
       "      <td>1</td>\n",
       "      <td>1</td>\n",
       "      <td>1</td>\n",
       "      <td>1</td>\n",
       "      <td>1</td>\n",
       "    </tr>\n",
       "    <tr>\n",
       "      <th>91</th>\n",
       "      <td>1</td>\n",
       "      <td>1</td>\n",
       "      <td>1</td>\n",
       "      <td>1</td>\n",
       "      <td>1</td>\n",
       "    </tr>\n",
       "    <tr>\n",
       "      <th>92</th>\n",
       "      <td>1</td>\n",
       "      <td>1</td>\n",
       "      <td>1</td>\n",
       "      <td>1</td>\n",
       "      <td>1</td>\n",
       "    </tr>\n",
       "    <tr>\n",
       "      <th>93</th>\n",
       "      <td>1</td>\n",
       "      <td>1</td>\n",
       "      <td>1</td>\n",
       "      <td>1</td>\n",
       "      <td>1</td>\n",
       "    </tr>\n",
       "    <tr>\n",
       "      <th>94</th>\n",
       "      <td>1</td>\n",
       "      <td>1</td>\n",
       "      <td>1</td>\n",
       "      <td>1</td>\n",
       "      <td>1</td>\n",
       "    </tr>\n",
       "    <tr>\n",
       "      <th>95</th>\n",
       "      <td>1</td>\n",
       "      <td>1</td>\n",
       "      <td>1</td>\n",
       "      <td>1</td>\n",
       "      <td>1</td>\n",
       "    </tr>\n",
       "    <tr>\n",
       "      <th>96</th>\n",
       "      <td>1</td>\n",
       "      <td>1</td>\n",
       "      <td>1</td>\n",
       "      <td>1</td>\n",
       "      <td>1</td>\n",
       "    </tr>\n",
       "    <tr>\n",
       "      <th>97</th>\n",
       "      <td>1</td>\n",
       "      <td>1</td>\n",
       "      <td>1</td>\n",
       "      <td>1</td>\n",
       "      <td>1</td>\n",
       "    </tr>\n",
       "    <tr>\n",
       "      <th>98</th>\n",
       "      <td>1</td>\n",
       "      <td>1</td>\n",
       "      <td>1</td>\n",
       "      <td>1</td>\n",
       "      <td>1</td>\n",
       "    </tr>\n",
       "    <tr>\n",
       "      <th>99</th>\n",
       "      <td>1</td>\n",
       "      <td>1</td>\n",
       "      <td>1</td>\n",
       "      <td>1</td>\n",
       "      <td>1</td>\n",
       "    </tr>\n",
       "    <tr>\n",
       "      <th>100</th>\n",
       "      <td>1</td>\n",
       "      <td>1</td>\n",
       "      <td>1</td>\n",
       "      <td>1</td>\n",
       "      <td>1</td>\n",
       "    </tr>\n",
       "  </tbody>\n",
       "</table>\n",
       "<p>101 rows × 5 columns</p>\n",
       "</div>"
      ],
      "text/plain": [
       "     True Value  OP with RandomForestClassifier  OP with LogisticRegression  \\\n",
       "0             0                               0                           0   \n",
       "1             0                               0                           0   \n",
       "2             0                               0                           0   \n",
       "3             0                               0                           0   \n",
       "4             0                               0                           0   \n",
       "5             0                               0                           0   \n",
       "6             0                               0                           0   \n",
       "7             0                               0                           0   \n",
       "8             0                               0                           0   \n",
       "9             0                               0                           0   \n",
       "10            0                               0                           0   \n",
       "11            0                               0                           0   \n",
       "12            0                               0                           0   \n",
       "13            0                               0                           0   \n",
       "14            0                               0                           1   \n",
       "15            0                               0                           0   \n",
       "16            0                               0                           0   \n",
       "17            0                               0                           0   \n",
       "18            0                               0                           0   \n",
       "19            0                               0                           0   \n",
       "20            0                               0                           0   \n",
       "21            0                               0                           0   \n",
       "22            0                               0                           0   \n",
       "23            0                               0                           0   \n",
       "24            0                               0                           0   \n",
       "25            0                               0                           0   \n",
       "26            0                               0                           1   \n",
       "27            0                               0                           0   \n",
       "28            0                               0                           0   \n",
       "29            0                               0                           0   \n",
       "..          ...                             ...                         ...   \n",
       "71            1                               1                           1   \n",
       "72            1                               1                           1   \n",
       "73            1                               1                           1   \n",
       "74            1                               1                           1   \n",
       "75            1                               1                           1   \n",
       "76            1                               1                           1   \n",
       "77            1                               1                           1   \n",
       "78            1                               1                           1   \n",
       "79            1                               1                           1   \n",
       "80            1                               1                           1   \n",
       "81            1                               1                           1   \n",
       "82            1                               1                           1   \n",
       "83            1                               1                           0   \n",
       "84            1                               1                           1   \n",
       "85            1                               1                           1   \n",
       "86            1                               1                           1   \n",
       "87            1                               1                           1   \n",
       "88            1                               1                           1   \n",
       "89            1                               1                           0   \n",
       "90            1                               1                           1   \n",
       "91            1                               1                           1   \n",
       "92            1                               1                           1   \n",
       "93            1                               1                           1   \n",
       "94            1                               1                           1   \n",
       "95            1                               1                           1   \n",
       "96            1                               1                           1   \n",
       "97            1                               1                           1   \n",
       "98            1                               1                           1   \n",
       "99            1                               1                           1   \n",
       "100           1                               1                           1   \n",
       "\n",
       "     OP with DecisionTreeClassifier  OP with GradientBoostingClassifier  \n",
       "0                                 0                                   0  \n",
       "1                                 0                                   0  \n",
       "2                                 0                                   0  \n",
       "3                                 0                                   0  \n",
       "4                                 0                                   0  \n",
       "5                                 0                                   0  \n",
       "6                                 0                                   0  \n",
       "7                                 0                                   0  \n",
       "8                                 0                                   0  \n",
       "9                                 0                                   0  \n",
       "10                                0                                   0  \n",
       "11                                0                                   0  \n",
       "12                                0                                   0  \n",
       "13                                0                                   0  \n",
       "14                                0                                   1  \n",
       "15                                0                                   0  \n",
       "16                                0                                   0  \n",
       "17                                0                                   0  \n",
       "18                                0                                   0  \n",
       "19                                0                                   0  \n",
       "20                                0                                   0  \n",
       "21                                0                                   0  \n",
       "22                                0                                   0  \n",
       "23                                0                                   0  \n",
       "24                                0                                   0  \n",
       "25                                0                                   0  \n",
       "26                                0                                   0  \n",
       "27                                0                                   0  \n",
       "28                                0                                   0  \n",
       "29                                0                                   0  \n",
       "..                              ...                                 ...  \n",
       "71                                1                                   1  \n",
       "72                                1                                   1  \n",
       "73                                1                                   1  \n",
       "74                                1                                   1  \n",
       "75                                0                                   1  \n",
       "76                                1                                   1  \n",
       "77                                1                                   1  \n",
       "78                                1                                   1  \n",
       "79                                1                                   1  \n",
       "80                                1                                   1  \n",
       "81                                1                                   1  \n",
       "82                                1                                   1  \n",
       "83                                1                                   0  \n",
       "84                                1                                   1  \n",
       "85                                1                                   1  \n",
       "86                                1                                   1  \n",
       "87                                1                                   1  \n",
       "88                                1                                   1  \n",
       "89                                1                                   1  \n",
       "90                                1                                   1  \n",
       "91                                1                                   1  \n",
       "92                                1                                   1  \n",
       "93                                1                                   1  \n",
       "94                                1                                   1  \n",
       "95                                1                                   1  \n",
       "96                                1                                   1  \n",
       "97                                1                                   1  \n",
       "98                                1                                   1  \n",
       "99                                1                                   1  \n",
       "100                               1                                   1  \n",
       "\n",
       "[101 rows x 5 columns]"
      ]
     },
     "execution_count": 23,
     "metadata": {},
     "output_type": "execute_result"
    }
   ],
   "source": [
    "classifiers = [\n",
    "    RandomForestClassifier(),\n",
    "    LogisticRegression(),\n",
    "    DecisionTreeClassifier(),\n",
    "    GradientBoostingClassifier()]\n",
    "\n",
    "Output = pd.DataFrame()\n",
    "Output[\"True Value\"]= Y_test\n",
    "\n",
    "for clf in classifiers:\n",
    "        name = clf.__class__.__name__\n",
    "        clf.fit(X_train, Y_train)\n",
    "        train_predictions = clf.predict(X_test)\n",
    "        Output['OP with '+name]=train_predictions\n",
    "        \n",
    "Output"
   ]
  }
 ],
 "metadata": {
  "kernelspec": {
   "display_name": "Python 2",
   "language": "python",
   "name": "python2"
  },
  "language_info": {
   "codemirror_mode": {
    "name": "ipython",
    "version": 2
   },
   "file_extension": ".py",
   "mimetype": "text/x-python",
   "name": "python",
   "nbconvert_exporter": "python",
   "pygments_lexer": "ipython2",
   "version": "2.7.13"
  }
 },
 "nbformat": 4,
 "nbformat_minor": 2
}
