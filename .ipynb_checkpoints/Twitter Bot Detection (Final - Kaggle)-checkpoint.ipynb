{
 "cells": [
  {
   "cell_type": "markdown",
   "metadata": {},
   "source": [
    "# Twitter Bot Detection (Final - Kaggle)"
   ]
  },
  {
   "cell_type": "markdown",
   "metadata": {},
   "source": [
    "## Import necessary Libraries :"
   ]
  },
  {
   "cell_type": "code",
   "execution_count": 1,
   "metadata": {
    "collapsed": false
   },
   "outputs": [],
   "source": [
    "import csv\n",
    "import pandas as pd\n",
    "import numpy as np\n",
    "\n",
    "from sklearn import model_selection\n",
    "from sklearn.tree import DecisionTreeClassifier\n",
    "from sklearn.svm import SVC\n",
    "from sklearn.ensemble import RandomForestClassifier, GradientBoostingClassifier, AdaBoostClassifier\n",
    "\n",
    "from sklearn.metrics import *\n",
    "%matplotlib inline\n",
    "import matplotlib.pyplot as plt\n",
    "from collections import Counter\n",
    "from sklearn.model_selection import GridSearchCV\n",
    "from sklearn.model_selection import cross_val_score"
   ]
  },
  {
   "cell_type": "markdown",
   "metadata": {},
   "source": [
    "## Importing the Data :"
   ]
  },
  {
   "cell_type": "code",
   "execution_count": 2,
   "metadata": {
    "collapsed": false,
    "scrolled": false
   },
   "outputs": [],
   "source": [
    "#import train and test data sets\n",
    "train = pd.read_csv(\"/Users/akshay/Desktop/GitHub/Twitter_Bot_Detection/Training_data.csv\")\n",
    "test = pd.read_csv(\"/Users/akshay/Desktop/GitHub/Twitter_Bot_Detection/Testing_data.csv\")"
   ]
  },
  {
   "cell_type": "markdown",
   "metadata": {},
   "source": [
    "### Check if 'Name', 'Screen_Name' or 'Description' contain  String 'bot' or 'Bot' :"
   ]
  },
  {
   "cell_type": "code",
   "execution_count": 3,
   "metadata": {
    "collapsed": false
   },
   "outputs": [],
   "source": [
    "### Check if the Screen_Name of the User has 'bot' in it\n",
    "test['screen_name'] = test['screen_name'].astype(str)\n",
    "test['name'] = test['name'].astype(str)\n",
    "test['description'] = test['description'].astype(str)\n",
    "\n",
    "#Check if 'description' attribute is null or not\n",
    "train['description'] = train['description'].fillna('No Description')\n",
    "test['description'] = test['description'].fillna('No Description')  \n",
    "\n",
    "### Check if the SCREEN_Name of the User has 'bot' in it\n",
    "train_sname_bot=[]\n",
    "for row in train.screen_name:\n",
    "    if ('bot' in row or 'Bot' in row):\n",
    "        train_sname_bot.append(1)\n",
    "    else:\n",
    "        train_sname_bot.append(0)\n",
    "\n",
    "test_sname_bot=[]\n",
    "for row in test.screen_name:\n",
    "    if ('bot' in row or 'Bot' in row):\n",
    "        test_sname_bot.append(1)\n",
    "    else:\n",
    "        test_sname_bot.append(0)\n",
    "\n",
    "### Check if the Name of the User has 'bot' in it\n",
    "train_name_bot=[]\n",
    "for row in train.name:\n",
    "    if ('bot' in row or 'Bot' in row):\n",
    "        train_name_bot.append(1)\n",
    "    else:\n",
    "        train_name_bot.append(0)\n",
    "\n",
    "test_name_bot=[]\n",
    "for row in test.name:\n",
    "    if ('bot' in row or 'Bot' in row):\n",
    "        test_name_bot.append(1)\n",
    "    else:\n",
    "        test_name_bot.append(0)\n",
    "\n",
    "### Check if the Description of the User has 'bot' in it\n",
    "train_des_bot=[]\n",
    "for line in train['description']:\n",
    "        if ('bot' in row and 'obot' not in row):\n",
    "            train_des_bot.append(1)\n",
    "        else:\n",
    "            train_des_bot.append(0)\n",
    "\n",
    "test_des_bot=[]\n",
    "for row in test['description']:\n",
    "        if ('bot' in row and 'obot' not in row):\n",
    "            test_des_bot.append(1)\n",
    "        else:\n",
    "            test_des_bot.append(0)"
   ]
  },
  {
   "cell_type": "markdown",
   "metadata": {},
   "source": [
    "### if Either of Name, Screen name or Description has 'bot' in it \n",
    "### Combine the Result as a Feature for Test Data:"
   ]
  },
  {
   "cell_type": "code",
   "execution_count": 4,
   "metadata": {
    "collapsed": false
   },
   "outputs": [
    {
     "name": "stdout",
     "output_type": "stream",
     "text": [
      "Counter({0: 436, 1: 139})\n",
      "Counter({0: 372, 1: 203})\n",
      "Counter({0: 417, 1: 158})\n",
      "Counter({0: 322, 1: 253})\n"
     ]
    }
   ],
   "source": [
    "print Counter(test_des_bot)\n",
    "print Counter(test_sname_bot)\n",
    "print Counter(test_name_bot)\n",
    "for i in range(0,len(test_des_bot)):\n",
    "    if(test_sname_bot[i]==1):\n",
    "        test_des_bot[i]=1\n",
    "    if(test_name_bot[i]==1):\n",
    "        test_des_bot[i]=1\n",
    "print Counter(test_des_bot)"
   ]
  },
  {
   "cell_type": "markdown",
   "metadata": {},
   "source": [
    "### Combine the Result as a Feature for Training Data:"
   ]
  },
  {
   "cell_type": "code",
   "execution_count": 5,
   "metadata": {
    "collapsed": false
   },
   "outputs": [
    {
     "name": "stdout",
     "output_type": "stream",
     "text": [
      "Counter({0: 2797})\n",
      "Counter({0: 2604, 1: 193})\n",
      "Counter({0: 2572, 1: 225})\n",
      "Counter({0: 2535, 1: 262})\n"
     ]
    }
   ],
   "source": [
    "# if Either of Name, Screen name or Description has 'bot' in it \n",
    "print Counter(train_des_bot)\n",
    "print Counter(train_name_bot)\n",
    "print Counter(train_sname_bot)\n",
    "for i in range(0,len(train_des_bot)):\n",
    "    if(train_sname_bot[i]==1):\n",
    "        train_des_bot[i]=1\n",
    "    if(train_name_bot[i]==1):\n",
    "        train_des_bot[i]=1\n",
    "print Counter(train_des_bot)"
   ]
  },
  {
   "cell_type": "markdown",
   "metadata": {},
   "source": [
    "### Adding the Feature to the Respective Dataframe:"
   ]
  },
  {
   "cell_type": "code",
   "execution_count": 6,
   "metadata": {
    "collapsed": false
   },
   "outputs": [],
   "source": [
    "test['name_bot']=test_des_bot\n",
    "train['name_bot']=train_des_bot"
   ]
  },
  {
   "cell_type": "markdown",
   "metadata": {},
   "source": [
    "### Correcting the Missclassified Data in Train:"
   ]
  },
  {
   "cell_type": "code",
   "execution_count": 7,
   "metadata": {
    "collapsed": false
   },
   "outputs": [
    {
     "name": "stdout",
     "output_type": "stream",
     "text": [
      "Counter({0: 1476, 1: 1321})\n",
      "Counter({0: 2535, 1: 262})\n"
     ]
    },
    {
     "name": "stderr",
     "output_type": "stream",
     "text": [
      "/anaconda/lib/python2.7/site-packages/ipykernel/__main__.py:5: SettingWithCopyWarning: \n",
      "A value is trying to be set on a copy of a slice from a DataFrame\n",
      "\n",
      "See the caveats in the documentation: http://pandas.pydata.org/pandas-docs/stable/indexing.html#indexing-view-versus-copy\n"
     ]
    },
    {
     "name": "stdout",
     "output_type": "stream",
     "text": [
      "Counter({0: 1465, 1: 1332})\n"
     ]
    }
   ],
   "source": [
    "print Counter(train['bot'])\n",
    "print Counter(train_des_bot)\n",
    "for i in range(0,train.shape[0]):\n",
    "    if(train_des_bot[i]==1):\n",
    "        train['bot'][i]=1\n",
    "print Counter(train['bot'])"
   ]
  },
  {
   "cell_type": "markdown",
   "metadata": {},
   "source": [
    "### DATA CLEANING AND FORMATTING (Test Data)"
   ]
  },
  {
   "cell_type": "code",
   "execution_count": 8,
   "metadata": {
    "collapsed": false
   },
   "outputs": [],
   "source": [
    "# Check if 'has_extended_profile' attribute is null or not\n",
    "train['has_extended_profile'] = train['has_extended_profile'].fillna(False)\n",
    "test['has_extended_profile'] = test['has_extended_profile'].fillna(False)\n",
    "\n",
    "# Check if 'location' attribute is null or not\n",
    "train['location']=pd.isnull(train.location).astype(int)\n",
    "test['location']=pd.isnull(test.location).astype(int)\n",
    "\n",
    "test['followers_count'].replace('None',0,inplace=True)\n",
    "test['friends_count'].replace('None',0,inplace=True)\n",
    "test['favorites_count'].replace('None',0,inplace=True)\n",
    "test['statuses_count'].replace('None',0,inplace=True)\n",
    "\n",
    "test['verified'].replace('None','FALSE',inplace=True)\n",
    "test['verified'] = test['verified'].fillna(False)\n",
    "\n",
    "test['default_profile'] = test['default_profile'].fillna(False)\n",
    "test['default_profile'].replace('None','FALSE',inplace=True)\n",
    "\n",
    "test['default_profile_image'] = test['default_profile_image'].fillna(False)\n",
    "test['default_profile_image'].replace('None','FALSE',inplace=True)\n",
    "\n",
    "test['has_extended_profile'] = test['has_extended_profile'].fillna(False)\n",
    "test['has_extended_profile'].replace('None',False,inplace=True)\n",
    "\n",
    "test.replace('FALSE',False,inplace=True)\n",
    "test.replace('TRUE',True,inplace=True)\n",
    "\n",
    "train['listedcount'].replace('None','-1',inplace=True)\n",
    "test['listed_count'].replace('None','-1',inplace=True)"
   ]
  },
  {
   "cell_type": "markdown",
   "metadata": {},
   "source": [
    "## Check How much every parameter contributes:\n",
    "\n",
    "The 10 Features used to Train the models are:\n",
    "1. Verified\n",
    "2. default_profile\n",
    "3. default_profile_image\n",
    "4. has_extended_profile\n",
    "5. name_bot\n",
    "6. friends_count\n",
    "7. followers_count\n",
    "8. favorites_count\n",
    "9. statuses_count\n",
    "10. location\n",
    "\n",
    "The code we used to find these features is in the Twitter_Bot_Detection(Midterm) Ipython Notebook"
   ]
  },
  {
   "cell_type": "markdown",
   "metadata": {},
   "source": [
    "## Generating our X_train, Y_train and X_test"
   ]
  },
  {
   "cell_type": "code",
   "execution_count": 9,
   "metadata": {
    "collapsed": true
   },
   "outputs": [],
   "source": [
    "X_train=train[['followers_count','friends_count','favourites_count','statuses_count','verified','default_profile','default_profile_image','has_extended_profile','location','name_bot']].astype(int)\n",
    "Y_train=train.bot\n",
    "\n",
    "X_test=test[['followers_count','friends_count','favorites_count','statuses_count','verified','default_profile','default_profile_image','has_extended_profile','location','name_bot']].astype(int)\n",
    "test.id = test.id.astype(np.int64)"
   ]
  },
  {
   "cell_type": "markdown",
   "metadata": {},
   "source": [
    "### Using GBC to make a Prediciton... Our Final Kaggle Prediction"
   ]
  },
  {
   "cell_type": "code",
   "execution_count": 10,
   "metadata": {
    "collapsed": false
   },
   "outputs": [],
   "source": [
    "clf=GradientBoostingClassifier()\n",
    "clf.fit(X_train,Y_train)\n",
    "prediction=clf.predict(X_test)\n",
    "# Here 'prediction' is our Best score on Kaggle, obtained using GBC modified by GridSearch CV.\n",
    "#We are using it here to show the confusion matrix and accuracy of other models."
   ]
  },
  {
   "cell_type": "code",
   "execution_count": 11,
   "metadata": {
    "collapsed": false
   },
   "outputs": [
    {
     "name": "stdout",
     "output_type": "stream",
     "text": [
      "614\n"
     ]
    }
   ],
   "source": [
    "count=0\n",
    "for i in range(0,prediction.shape[0]):\n",
    "    if(test_name_bot[i]==1):\n",
    "        count=count+1\n",
    "        prediction[i]=1\n",
    "    if(test_sname_bot[i]==1):\n",
    "        count=count+1\n",
    "        prediction[i]=1\n",
    "    if(test_des_bot[i]==1):\n",
    "        count=count+1\n",
    "        prediction[i]=1\n",
    "print count"
   ]
  },
  {
   "cell_type": "code",
   "execution_count": 12,
   "metadata": {
    "collapsed": true
   },
   "outputs": [],
   "source": [
    "### Creating the file to Submit on Kaggle:\n",
    "z=pd.DataFrame()\n",
    "z['id']=test.id.astype(np.int64)\n",
    "z['bot']=prediction\n",
    "#z.to_csv('FINAL.csv',index=False,encoding='utf-8')"
   ]
  },
  {
   "cell_type": "markdown",
   "metadata": {},
   "source": [
    "## Predicting the Result with other Classifiers"
   ]
  },
  {
   "cell_type": "code",
   "execution_count": 13,
   "metadata": {
    "collapsed": false
   },
   "outputs": [],
   "source": [
    "#Classifiers Used are:\n",
    "AdaBoostClassifier()\n",
    "DecisionTreeClassifier()\n",
    "GradientBoostingClassifier()\n",
    "RandomForestClassifier()\n",
    "SVC(kernel='rbf', gamma=1e-10, C=10)\n",
    "\n",
    "clf1 = RandomForestClassifier()\n",
    "clf2 = GradientBoostingClassifier()\n",
    "clf3 = DecisionTreeClassifier()\n",
    "clf4 = SVC(kernel='rbf', gamma=1e-10, C=10)\n",
    "clf5 = AdaBoostClassifier()\n",
    "\n",
    "idx=test.id.astype(np.int64)\n",
    "\n",
    "## Training all the default classifiers:\n",
    "clf1.fit(X_train, Y_train)\n",
    "clf2.fit(X_train, Y_train)\n",
    "clf3.fit(X_train, Y_train)\n",
    "clf4.fit(X_train,Y_train)\n",
    "clf5.fit(X_train,Y_train)\n",
    "\n",
    "## Using our trained models to predict Results:\n",
    "train_predictions1 = clf1.predict(X_test)\n",
    "train_predictions2 = clf2.predict(X_test)\n",
    "train_predictions3 = clf3.predict(X_test)\n",
    "train_predictions4 = clf4.predict(X_test)\n",
    "train_predictions5 = clf5.predict(X_test)\n",
    "\n",
    "## Adding the Predictions to a Dataframe \n",
    "Predictions=pd.DataFrame()\n",
    "Predictions['RF']=train_predictions1\n",
    "Predictions['GBC']=train_predictions2\n",
    "Predictions['DTC']=train_predictions3\n",
    "Predictions['SVM']=train_predictions4\n",
    "Predictions['ADB']=train_predictions5\n",
    "\n",
    "## We use our best submission as a basis to show the accuracy of the other models we trained:\n",
    "Predictions['X']=prediction"
   ]
  },
  {
   "cell_type": "code",
   "execution_count": 14,
   "metadata": {
    "collapsed": false
   },
   "outputs": [
    {
     "name": "stdout",
     "output_type": "stream",
     "text": [
      "The results for RF\n",
      "0.892379162088\n",
      "0.986086956522\n",
      "[[301   5]\n",
      " [  3 266]]\n",
      "Counter({0: 306, 1: 269})\n",
      "\n",
      "\n",
      "The results for GBC\n",
      "0.904542546097\n",
      "0.998260869565\n",
      "[[304   1]\n",
      " [  0 270]]\n",
      "Counter({0: 305, 1: 270})\n",
      "\n",
      "\n",
      "The results for DTC\n",
      "0.864507701447\n",
      "0.961739130435\n",
      "[[290   8]\n",
      " [ 14 263]]\n",
      "Counter({0: 298, 1: 277})\n",
      "\n",
      "\n",
      "The results for SVM\n",
      "0.727174854636\n",
      "0.833043478261\n",
      "[[215   7]\n",
      " [ 89 264]]\n",
      "Counter({1: 353, 0: 222})\n",
      "\n",
      "\n",
      "The results for ADB\n",
      "0.887384282416\n",
      "0.984347826087\n",
      "[[296   1]\n",
      " [  8 270]]\n",
      "Counter({0: 297, 1: 278})\n",
      "\n",
      "\n"
     ]
    }
   ],
   "source": [
    "## Accuracy, Confusion Matrix for the model with respect to our best prediction:\n",
    "print (\"The results for RF\")\n",
    "print(cross_val_score(clf1, X_train, Y_train, cv=10, scoring='accuracy').mean())\n",
    "print accuracy_score(Predictions['RF'],z.bot)\n",
    "print confusion_matrix(Predictions['RF'],z.bot)\n",
    "print Counter(Predictions['RF'])\n",
    "print '\\n'\n",
    "\n",
    "print (\"The results for GBC\")\n",
    "print(cross_val_score(clf2, X_train, Y_train, cv=10, scoring='accuracy').mean())\n",
    "print accuracy_score(Predictions['GBC'],z.bot)\n",
    "print confusion_matrix(Predictions['GBC'],z.bot)\n",
    "print Counter(Predictions['GBC'])\n",
    "print '\\n'\n",
    "# GBC works best here \n",
    "\n",
    "print (\"The results for DTC\")\n",
    "print(cross_val_score(clf3, X_train, Y_train, cv=10, scoring='accuracy').mean())\n",
    "print accuracy_score(Predictions['DTC'],z.bot)\n",
    "print confusion_matrix(Predictions['DTC'],z.bot)\n",
    "print Counter(Predictions['DTC'])\n",
    "print '\\n'\n",
    "\n",
    "print (\"The results for SVM\")\n",
    "print(cross_val_score(clf4, X_train, Y_train, cv=10, scoring='accuracy').mean())\n",
    "print accuracy_score(Predictions['SVM'],z.bot)\n",
    "print confusion_matrix(Predictions['SVM'],z.bot)\n",
    "print Counter(Predictions['SVM'])\n",
    "print '\\n'\n",
    "\n",
    "print (\"The results for ADB\")\n",
    "print(cross_val_score(clf5, X_train, Y_train, cv=10, scoring='accuracy').mean())\n",
    "print accuracy_score(Predictions['ADB'],z.bot)\n",
    "print confusion_matrix(Predictions['ADB'],z.bot)\n",
    "print Counter(Predictions['ADB'])\n",
    "print '\\n'"
   ]
  },
  {
   "cell_type": "markdown",
   "metadata": {},
   "source": [
    "## We use GridSearch CV to identify the best possible configuration to Train our model"
   ]
  },
  {
   "cell_type": "code",
   "execution_count": null,
   "metadata": {
    "collapsed": false
   },
   "outputs": [],
   "source": [
    "features=list(X_train)"
   ]
  },
  {
   "cell_type": "markdown",
   "metadata": {},
   "source": [
    "### GridSearch for Random Forest:"
   ]
  },
  {
   "cell_type": "code",
   "execution_count": null,
   "metadata": {
    "collapsed": false
   },
   "outputs": [],
   "source": [
    "rfc = RandomForestClassifier(n_jobs=-1,max_features='sqrt',n_estimators=10, oob_score = True) \n",
    "\n",
    "param_grid = { \n",
    "    'n_estimators': [100, 2000],\n",
    "    'max_features': ['auto', 'sqrt', 'log2']\n",
    "}\n",
    "\n",
    "CV_rfc = GridSearchCV(estimator=rfc,scoring='accuracy',param_grid=param_grid, cv=5)\n",
    "CV_rfc.fit(X_train,Y_train)\n",
    "print CV_rfc.best_params_\n",
    "print '\\n',CV_rfc.best_estimator_"
   ]
  },
  {
   "cell_type": "markdown",
   "metadata": {},
   "source": [
    "### GridSearch for Gradient Boost:"
   ]
  },
  {
   "cell_type": "code",
   "execution_count": null,
   "metadata": {
    "collapsed": true
   },
   "outputs": [],
   "source": [
    "gbc= GradientBoostingClassifier()\n",
    "\n",
    "gb_grid_params = {'learning_rate': [0.1, 0.05, 0.02, 0.01],\n",
    "              'max_depth': [2,4, 6, 8],\n",
    "              'min_samples_leaf': [20, 50,100,150],\n",
    "              'max_features': [10, 3, 1],\n",
    "              'n_estimators':[100,500]\n",
    "              }\n",
    "\n",
    "CV_gbc = GridSearchCV(estimator=gbc,scoring='accuracy',param_grid=gb_grid_params, cv=5)\n",
    "CV_gbc.fit(X_train,Y_train)\n",
    "print CV_gbc.best_params_\n",
    "print '\\n',CV_gbc.best_estimator_"
   ]
  },
  {
   "cell_type": "markdown",
   "metadata": {},
   "source": [
    "### GridSearch for Decision Tree:"
   ]
  },
  {
   "cell_type": "code",
   "execution_count": null,
   "metadata": {
    "collapsed": false
   },
   "outputs": [],
   "source": [
    "dtc=DecisionTreeClassifier()\n",
    "n_estimators = range(50, 400, 50)\n",
    "\n",
    "parameters={\n",
    "    \"min_samples_split\": [2, 10, 20],\n",
    "    \"max_depth\": [None, 2, 5, 10],\n",
    "    \"min_samples_leaf\": [1, 5, 10],\n",
    "    \"max_leaf_nodes\": [None, 5, 10, 20]\n",
    "}\n",
    "\n",
    "CV_dtc=GridSearchCV(estimator=dtc,scoring='accuracy',param_grid=parameters,cv=5)\n",
    "CV_dtc.fit(X_train,Y_train)\n",
    "print CV_dtc.best_params_\n",
    "print CV_dtc.best_estimator_"
   ]
  },
  {
   "cell_type": "markdown",
   "metadata": {},
   "source": [
    "### GridSearch for AdaBoost:"
   ]
  },
  {
   "cell_type": "code",
   "execution_count": null,
   "metadata": {
    "collapsed": false
   },
   "outputs": [],
   "source": [
    "params = {'base_estimator__max_depth':[1,50],\n",
    "          'base_estimator':[DecisionTreeClassifier(max_features=2), \n",
    "                            DecisionTreeClassifier(max_features=10)]}\n",
    "gs = GridSearchCV(AdaBoostClassifier(base_estimator=DecisionTreeClassifier()), params)\n",
    "gs.fit(X_train,Y_train)\n",
    "print(gs.best_estimator_)"
   ]
  },
  {
   "cell_type": "markdown",
   "metadata": {},
   "source": [
    "## We now Individually train the best found configuration for each model and compare the results:"
   ]
  },
  {
   "cell_type": "code",
   "execution_count": 15,
   "metadata": {
    "collapsed": false
   },
   "outputs": [
    {
     "name": "stdout",
     "output_type": "stream",
     "text": [
      "The results for modified Random Forest\n",
      "Counter({0: 302, 1: 273})\n",
      "Cross Validation Score\n",
      "0.90025167504\n",
      "Accuarcy with respect to the final prediction\n",
      "0.993043478261\n",
      "Confusion Matrix\n",
      "[[301   1]\n",
      " [  3 270]]\n",
      "\n",
      "\n",
      "The results for modified GBC\n",
      "Counter({0: 301, 1: 274})\n",
      "Cross Validation Score\n",
      "0.901680273801\n",
      "Accuarcy with respect to the final prediction\n",
      "0.991304347826\n",
      "Confusion Matrix\n",
      "[[300   1]\n",
      " [  4 270]]\n",
      "\n",
      "\n",
      "The results for modified Decision Tree\n",
      "Counter({0: 310, 1: 265})\n",
      "Cross Validation Score\n",
      "0.872358589669\n",
      "Accuarcy with respect to the final prediction\n",
      "0.986086956522\n",
      "Confusion Matrix\n",
      "[[303   7]\n",
      " [  1 264]]\n",
      "\n",
      "\n",
      "The results for modified SVM\n",
      "Counter({1: 353, 0: 222})\n",
      "Cross Validation Score\n",
      "0.727174854636\n",
      "Accuarcy with respect to the final prediction\n",
      "0.833043478261\n",
      "Confusion Matrix\n",
      "[[215   7]\n",
      " [ 89 264]]\n",
      "\n",
      "\n",
      "The results for Modified AdaBoost \n",
      "Counter({0: 299, 1: 276})\n",
      "Cross Validation Score\n",
      "0.882002763337\n",
      "Accuarcy with respect to the final prediction\n",
      "0.966956521739\n",
      "Confusion Matrix\n",
      "[[292   7]\n",
      " [ 12 264]]\n"
     ]
    }
   ],
   "source": [
    "##Random Forest \n",
    "rf=RandomForestClassifier(bootstrap=True, class_weight=None, criterion='gini',\n",
    "            max_depth=None, max_features='sqrt', max_leaf_nodes=None,\n",
    "            min_impurity_split=1e-07, min_samples_leaf=1,\n",
    "            min_samples_split=2, min_weight_fraction_leaf=0.0,\n",
    "            n_estimators=2000, n_jobs=-1, oob_score=True,\n",
    "            random_state=None, verbose=0, warm_start=False)\n",
    "rf.fit(X_train,Y_train)\n",
    "predRF=rf.predict(X_test)\n",
    "print (\"The results for modified Random Forest\")\n",
    "print Counter(predRF)\n",
    "print (\"Cross Validation Score\")\n",
    "print(cross_val_score(rf, X_train, Y_train, cv=10, scoring='accuracy').mean())\n",
    "print (\"Accuarcy with respect to the final prediction\")\n",
    "print accuracy_score(predRF,Predictions['X'])\n",
    "print (\"Confusion Matrix\")\n",
    "print confusion_matrix(predRF,Predictions['X'])\n",
    "print '\\n'\n",
    "\n",
    "\n",
    "\n",
    "\n",
    "## Gradient Boost \n",
    "gbc=GradientBoostingClassifier(criterion='friedman_mse', init=None,\n",
    "              learning_rate=0.1, loss='deviance', max_depth=2,\n",
    "              max_features=10, max_leaf_nodes=None,\n",
    "              min_impurity_split=1e-07, min_samples_leaf=20,\n",
    "              min_samples_split=2, min_weight_fraction_leaf=0.0,\n",
    "              n_estimators=500, presort='auto', random_state=None,\n",
    "              subsample=1.0, verbose=0, warm_start=False)\n",
    "gbc.fit(X_train,Y_train)\n",
    "predGBC=gbc.predict(X_test)\n",
    "print (\"The results for modified GBC\")\n",
    "print Counter(predGBC)\n",
    "print (\"Cross Validation Score\")\n",
    "print(cross_val_score(gbc, X_train, Y_train, cv=10, scoring='accuracy').mean())\n",
    "print (\"Accuarcy with respect to the final prediction\")\n",
    "print accuracy_score(predGBC,Predictions['X'])\n",
    "print (\"Confusion Matrix\")\n",
    "print confusion_matrix(predGBC,Predictions['X'])\n",
    "print '\\n'\n",
    "\n",
    "\n",
    "\n",
    "\n",
    "## Decision Tree:\n",
    "dtc=DecisionTreeClassifier(class_weight=None, criterion='gini', max_depth=None,\n",
    "            max_features=None, max_leaf_nodes=20, min_impurity_split=1e-07,\n",
    "            min_samples_leaf=5, min_samples_split=2,\n",
    "            min_weight_fraction_leaf=0.0, presort=False, random_state=None,\n",
    "            splitter='best')\n",
    "dtc.fit(X_train,Y_train)\n",
    "predDTC=dtc.predict(X_test)\n",
    "print (\"The results for modified Decision Tree\")\n",
    "print Counter(predDTC)\n",
    "print (\"Cross Validation Score\")\n",
    "print(cross_val_score(dtc, X_train, Y_train, cv=10, scoring='accuracy').mean())\n",
    "print (\"Accuarcy with respect to the final prediction\")\n",
    "print accuracy_score(predDTC,Predictions['X'])\n",
    "print (\"Confusion Matrix\")\n",
    "print confusion_matrix(predDTC,Predictions['X'])\n",
    "print '\\n'\n",
    "\n",
    "\n",
    "\n",
    "\n",
    "## SVM \n",
    "svm=SVC(C=10, kernel='rbf',gamma=1e-10)\n",
    "svm.fit(X_train,Y_train)\n",
    "predSVM=svm.predict(X_test)\n",
    "print (\"The results for modified SVM\")\n",
    "print Counter(predSVM)\n",
    "print (\"Cross Validation Score\")\n",
    "print(cross_val_score(svm, X_train, Y_train, cv=10, scoring='accuracy').mean())\n",
    "print (\"Accuarcy with respect to the final prediction\")\n",
    "print accuracy_score(predSVM,Predictions['X'])\n",
    "print (\"Confusion Matrix\")\n",
    "print confusion_matrix(predSVM,Predictions['X'])\n",
    "print '\\n'\n",
    "\n",
    "\n",
    "\n",
    "\n",
    "#AdaBoost Classifier:\n",
    "adb=AdaBoostClassifier(algorithm='SAMME.R',\n",
    "          base_estimator=DecisionTreeClassifier(class_weight=None, criterion='gini', max_depth=None,\n",
    "            max_features=2, max_leaf_nodes=None, min_impurity_split=1e-07,\n",
    "            min_samples_leaf=1, min_samples_split=2,\n",
    "            min_weight_fraction_leaf=0.0, presort=False, random_state=None,\n",
    "            splitter='best'),\n",
    "          learning_rate=1.0, n_estimators=50, random_state=None)\n",
    "adb.fit(X_train,Y_train)\n",
    "predADB=adb.predict(X_test)\n",
    "print (\"The results for Modified AdaBoost \")\n",
    "print Counter(predADB)\n",
    "print (\"Cross Validation Score\")\n",
    "print(cross_val_score(adb, X_train, Y_train, cv=10, scoring='accuracy').mean())\n",
    "print (\"Accuarcy with respect to the final prediction\")\n",
    "print accuracy_score(predADB,Predictions['X'])\n",
    "print (\"Confusion Matrix\")\n",
    "print confusion_matrix(predADB,Predictions['X'])"
   ]
  },
  {
   "cell_type": "markdown",
   "metadata": {},
   "source": [
    "### As GBC gives us the Best Cros_val_score, we use GBC for our FINAL prediction:"
   ]
  }
 ],
 "metadata": {
  "kernelspec": {
   "display_name": "Python 2",
   "language": "python",
   "name": "python2"
  },
  "language_info": {
   "codemirror_mode": {
    "name": "ipython",
    "version": 2
   },
   "file_extension": ".py",
   "mimetype": "text/x-python",
   "name": "python",
   "nbconvert_exporter": "python",
   "pygments_lexer": "ipython2",
   "version": "2.7.13"
  }
 },
 "nbformat": 4,
 "nbformat_minor": 2
}
